{
 "cells": [
  {
   "cell_type": "code",
   "execution_count": null,
   "id": "caee5d1e",
   "metadata": {},
   "outputs": [],
   "source": [
    "print(\"QUIZ GAME\")\n",
    "questions=(\"how many element are in the periodic table?:\",\n",
    "           \"which animal lays the largest eggs?:\",\n",
    "           \"what is the most  abundant gas in Earth's atmosphere?:\",\n",
    "           \"How many bones are in the human body?:\",\n",
    "           \"which planet in  the solar system is the hottest?:\")\n",
    "\n",
    "options=((\"A. 116\",\"B. 117\",\"C. 118\",\"D. 118\"),\n",
    "         (\"A. Whale\",\"B. Crocodile\",\"C. Elephant\",\"D. Ostrich\"),\n",
    "         (\"A. Nitrogen\",\"B. Oxygen\",\"C. Carbn-Dioxide\",\"D. Hydrogen\"),\n",
    "         (\"A. 206\",\"B. 207\",\"C. 208\",\"D. 209\"),\n",
    "         (\"A. Mercury\",\"B. Venus\",\"C. Earth\",\"D. Mars\"))\n",
    "answers=(\"C\",\"D\",\"A\",\"A\",\"B\")\n",
    "guesses=[]\n",
    "score=0\n",
    "question_num=0\n",
    "for question in questions:\n",
    "    print(\"---------------------------------\")\n",
    "    print(question)\n",
    "    for option in options[question_num]:\n",
    "        print(option)\n",
    "    guess=input((\"Enter (A, B, C, D):\")).upper()  \n",
    "    if guess==answers[question_num]:\n",
    "        score+=1\n",
    "        print(\"CORRECT\")\n",
    "    else:\n",
    "        print(\"INCORRECT\")\n",
    "        print(f\"{answers[question_num]} is the correct answer\")\n",
    "    question_num+=1 \n",
    "print(\"---------------------------------------\")           \n",
    "print(\"                RESULTS                \")\n",
    "print(\"---------------------------------------\")\n",
    "print(\"Answers:\",end=\"\")\n",
    "for answer in answers:              \n",
    "    print(answer,end=\"\")              \n",
    "print()\n",
    "print(\"guesses\",end=\"\")              \n",
    "for gues in guesses: \n",
    "     print(gues,end=\"\") \n",
    "print()\n",
    "score=int(score/len(questions)*100)\n",
    "print(f\"your score is:{score}%\")\n",
    "              \n",
    "              \n"
   ]
  },
  {
   "cell_type": "code",
   "execution_count": null,
   "id": "f4ae61b5",
   "metadata": {},
   "outputs": [],
   "source": []
  }
 ],
 "metadata": {
  "kernelspec": {
   "display_name": "Python 3 (ipykernel)",
   "language": "python",
   "name": "python3"
  },
  "language_info": {
   "codemirror_mode": {
    "name": "ipython",
    "version": 3
   },
   "file_extension": ".py",
   "mimetype": "text/x-python",
   "name": "python",
   "nbconvert_exporter": "python",
   "pygments_lexer": "ipython3",
   "version": "3.10.9"
  }
 },
 "nbformat": 4,
 "nbformat_minor": 5
}
